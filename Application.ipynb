{
 "cells": [
  {
   "cell_type": "code",
   "execution_count": 1,
   "id": "4d603b61",
   "metadata": {},
   "outputs": [],
   "source": [
    "import numpy as np\n",
    "import pandas as pd\n",
    "from pathlib import Path\n",
    "import matplotlib.pyplot as plt\n",
    "import os.path\n",
    "import tensorflow as tf\n",
    "from tensorflow.keras.preprocessing.image import load_img,img_to_array"
   ]
  },
  {
   "cell_type": "code",
   "execution_count": 2,
   "id": "da5f94f5",
   "metadata": {},
   "outputs": [],
   "source": [
    "import streamlit as st\n",
    "from PIL import Image\n",
    "from keras.models import load_model\n",
    "import requests"
   ]
  },
  {
   "cell_type": "code",
   "execution_count": 3,
   "id": "982a2fef",
   "metadata": {},
   "outputs": [],
   "source": [
    "model = load_model('FV.h5')"
   ]
  },
  {
   "cell_type": "code",
   "execution_count": 4,
   "id": "cf58cb6d",
   "metadata": {},
   "outputs": [],
   "source": [
    "labels = {0: 'apple', 1: 'banana', 2: 'beetroot', 3: 'bell pepper', 4: 'cabbage', 5: 'capsicum', 6: 'carrot',\n",
    "          7: 'cauliflower', 8: 'chilli pepper', 9: 'corn', 10: 'cucumber', 11: 'eggplant', 12: 'garlic', 13: 'ginger',\n",
    "          14: 'grapes', 15: 'jalepeno', 16: 'kiwi', 17: 'lemon', 18: 'lettuce',\n",
    "          19: 'mango', 20: 'onion', 21: 'orange', 22: 'paprika', 23: 'pear', 24: 'peas', 25: 'pineapple',\n",
    "          26: 'pomegranate', 27: 'potato', 28: 'raddish', 29: 'soy beans', 30: 'spinach', 31: 'sweetcorn',\n",
    "          32: 'sweetpotato', 33: 'tomato', 34: 'turnip', 35: 'watermelon'}"
   ]
  },
  {
   "cell_type": "code",
   "execution_count": 5,
   "id": "99eb3f24",
   "metadata": {},
   "outputs": [],
   "source": [
    "fruits = ['Apple', 'Banana', 'Bell Pepper', 'Capsicum', 'Chilli Pepper', 'Grapes', 'Jalepeno', 'Kiwi', 'Lemon', 'Mango', 'Orange',\n",
    "          'Paprika', 'Pear', 'Pineapple', 'Pomegranate', 'Watermelon']\n",
    "vegetables = ['Beetroot', 'Cabbage', 'Carrot', 'Cauliflower', 'Corn', 'Cucumber', 'Eggplant', 'Ginger',\n",
    "              'Lettuce', 'Onion', 'Peas', 'Potato', 'Raddish', 'Soy Beans', 'Spinach', 'Sweetcorn', 'Sweetpotato',\n",
    "              'Tomato', 'Turnip']"
   ]
  },
  {
   "cell_type": "code",
   "execution_count": 6,
   "id": "9e7d32fb",
   "metadata": {},
   "outputs": [],
   "source": [
    "calorie = {'Apple': 48, 'Banana': 89, 'Beetroot': 43, 'Bell Pepper': 28, 'Cabbage': 25, 'Capsicum': 40, 'Carrot': 41,\n",
    "           'Cauliflower': 25, 'Chilli Pepper': 40, 'Corn': 86, 'Cucumber': 16, 'Eggplant': 25, 'Garlic': 149, 'Ginger': 80, \n",
    "           'Grapes': 69, 'Jalapeno': 29, 'Kiwi': 64, 'Lemon': 29, 'Lettuce': 13, 'Mango': 60, 'Onion': 40, 'Orange': 52, \n",
    "           'Paprika': 40, 'Pear': 57, 'Peas': 81, 'Pineapple': 50, 'Pomegranate': 83, 'Potato': 73, 'Raddish': 16,\n",
    "           'Soy Beans': 172, 'Spinach': 23, 'Sweetcorn': 86, 'Sweetpotato': 86, 'Tomato': 18, 'Turnip': 28, 'Watermelon': 30}"
   ]
  },
  {
   "cell_type": "code",
   "execution_count": 7,
   "id": "bbe5d43d",
   "metadata": {},
   "outputs": [],
   "source": [
    "sugar = {'Apple': 10.1, 'Banana': 12.2, 'Beetroot': 6.8, 'Bell Pepper': 2.5, 'Cabbage': 3.2, 'Capsicum': 5.1, 'Carrot': 4.7,\n",
    "           'Cauliflower': 1.9, 'Chilli Pepper': 5.3, 'Corn': 3.2, 'Cucumber': 1.7, 'Eggplant': 3.5, 'Garlic': 1.0, 'Ginger': 1.7, \n",
    "           'Grapes': 15.5, 'Jalapeno': 4.1, 'Kiwi': 9.0, 'Lemon': 2.5, 'Lettuce': 0.94, 'Mango': 13.7, 'Onion': 4.2, 'Orange': 8.6, \n",
    "           'Paprika': 5.1, 'Pear': 9.8, 'Peas': 5.7, 'Pineapple': 9.9, 'Pomegranate': 13.7, 'Potato': 0.7, 'Raddish': 1.9,\n",
    "           'Soy Beans': 3.0, 'Spinach': 0.4, 'Sweetcorn': 3.2, 'Sweetpotato': 4.2, 'Tomato': 2.6, 'Turnip': 3.8, 'Watermelon': 6.2}"
   ]
  },
  {
   "cell_type": "code",
   "execution_count": 8,
   "id": "53b246b9",
   "metadata": {},
   "outputs": [],
   "source": [
    "blood_glucose = {'Apple': 'Minimal increase in blood glucose level', 'Banana': 'According to ripeness. Ripe bananas causes a higher increase in blood glucose',\n",
    "                 'Beetroot': 'Prevent increase in blood glucose level', 'Bell Pepper': 'Does not increase blood glucose level',\n",
    "                 'Cabbage': 'Helps in maintaining good blood glucose level', 'Capsicum': 'Does not increase blood glucose level',\n",
    "                 'Carrot': 'Does not increase blood glucose level', 'Cauliflower': 'Does not increase blood glucose level', 'Chilli Pepper': 'Does not increase blood glucose level',\n",
    "                 'Corn': 'Can increase blood glucose level if taken in huge amount', 'Cucumber': 'Prevent increase in blood glucose level',\n",
    "                 'Eggplant': 'Does not increase blood glucose level', 'Garlic': 'Does not increase blood glucose level', 'Ginger': 'Helps in maintaining good blood glucose level', \n",
    "                 'Grapes': 'Does not increase blood glucose level', 'Jalapeno': 'Does not increase blood glucose level', 'Kiwi': 'Does not increase blood glucose level',\n",
    "                 'Lemon': 'Can help to reduce blood glucose level', 'Lettuce': 'Can help to reduce blood glucose level',\n",
    "                 'Mango': 'According to ripeness. Ripe or over-riped mangoes can cause higher increase in blood glucose level',\n",
    "                 'Onion': 'Can help to reduce blood glucose level', 'Orange': 'Minimal increase in blood glucose level',\n",
    "                 'Paprika': 'Helps in maintaining good blood glucose level', 'Pear': 'Minimal increase in blood glucose level',\n",
    "                 'Peas': 'Helps in maintaining good blood glucose level', 'Pineapple': 'Can increase blood glucose level if taken in huge amount',\n",
    "                 'Pomegranate': 'Minimal increase in blood glucose level', 'Potato': 'Can increase blood glucose level quickly',\n",
    "                 'Raddish': 'Can help to regulate blood glucose level', 'Soy Beans': 'Can help to regulate blood glucose level',\n",
    "                 'Spinach': 'Can help to reduce blood glucose level', 'Sweetcorn': 'Can increase blood glucose level if taken in huge amount',\n",
    "                 'Sweetpotato': 'Can help to regulate blood glucose level', 'Tomato': 'Does not increase blood glucose level',\n",
    "                 'Turnip': 'Can help to regulate blood glucose level', 'Watermelon': 'Can increase blood glucose level if taken in huge amount'}"
   ]
  },
  {
   "cell_type": "code",
   "execution_count": 9,
   "id": "23d55039",
   "metadata": {},
   "outputs": [],
   "source": [
    "def run():\n",
    "    st.title(\"🍍Fruits and Vegetables Classification🍅\")\n",
    "    img_file = st.file_uploader(\"Choose an Image\", type=[\"jpg\", \"png\"])\n",
    "    if img_file is not None:\n",
    "        img = Image.open(img_file).resize((250, 250))\n",
    "        st.image(img, use_column_width=False)\n",
    "        save_image_path = './upload_images/' + img_file.name\n",
    "        with open(save_image_path, \"wb\") as f:\n",
    "            f.write(img_file.getbuffer())\n",
    "\n",
    "        # if st.button(\"Predict\"):\n",
    "        if img_file is not None:\n",
    "            # result = processed_img(save_image_path)\n",
    "            url = 'http://192.168.1.5:5000/predict'\n",
    "            form_data = {'file': open(save_image_path, 'rb')}\n",
    "            resp = requests.post(url, files=form_data)\n",
    "            resp_dict = resp.json()\n",
    "            result = resp_dict['prediction']\n",
    "            print(result)\n",
    "            if result in vegetables:\n",
    "                st.info('**Category : Vegetables**')\n",
    "            else:\n",
    "                st.info('**Category : Fruit**')\n",
    "            st.success(\"**Name : \" + result + '**')\n",
    "            cal = calorie\n",
    "            if cal:\n",
    "                st.warning('**' + cal + '(kcal per 100 grams)**')\n",
    "            sug = sugar\n",
    "            if sug:\n",
    "                st.warning('**' + sug + '(g per 100 grams)')\n",
    "            blood_glucose"
   ]
  },
  {
   "cell_type": "code",
   "execution_count": 10,
   "id": "c6af0dd9",
   "metadata": {},
   "outputs": [
    {
     "name": "stderr",
     "output_type": "stream",
     "text": [
      "2023-07-14 08:07:54.262 \n",
      "  \u001b[33m\u001b[1mWarning:\u001b[0m to view this Streamlit app on a browser, run it with the following\n",
      "  command:\n",
      "\n",
      "    streamlit run C:\\Users\\narma\\anaconda3\\envs\\hia122\\lib\\site-packages\\ipykernel_launcher.py [ARGUMENTS]\n"
     ]
    }
   ],
   "source": [
    "run()"
   ]
  }
 ],
 "metadata": {
  "kernelspec": {
   "display_name": "Python 3 (ipykernel)",
   "language": "python",
   "name": "python3"
  },
  "language_info": {
   "codemirror_mode": {
    "name": "ipython",
    "version": 3
   },
   "file_extension": ".py",
   "mimetype": "text/x-python",
   "name": "python",
   "nbconvert_exporter": "python",
   "pygments_lexer": "ipython3",
   "version": "3.10.9"
  }
 },
 "nbformat": 4,
 "nbformat_minor": 5
}
